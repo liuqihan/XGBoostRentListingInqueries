{
 "cells": [
  {
   "cell_type": "markdown",
   "metadata": {},
   "source": [
    "# 再次调整弱分类器数目n_estimators "
   ]
  },
  {
   "cell_type": "code",
   "execution_count": 1,
   "metadata": {},
   "outputs": [],
   "source": [
    "from xgboost import XGBClassifier\n",
    "import xgboost as xgb\n",
    "\n",
    "import pandas as pd \n",
    "import numpy as np\n",
    "\n",
    "from sklearn.model_selection import GridSearchCV\n",
    "from sklearn.model_selection import StratifiedKFold\n",
    "\n",
    "from sklearn.metrics import log_loss\n",
    "\n",
    "from matplotlib import pyplot\n",
    "import seaborn as sns\n",
    "%matplotlib inline"
   ]
  },
  {
   "cell_type": "markdown",
   "metadata": {},
   "source": [
    "## 读取数据"
   ]
  },
  {
   "cell_type": "code",
   "execution_count": 2,
   "metadata": {},
   "outputs": [],
   "source": [
    "# path to where the data lies\n",
    "dpath = './data/'\n",
    "train = pd.read_csv(dpath +\"RentListingInquries_FE_train.csv\")\n",
    "# train.head()"
   ]
  },
  {
   "cell_type": "markdown",
   "metadata": {},
   "source": [
    "## 准备数据"
   ]
  },
  {
   "cell_type": "code",
   "execution_count": 3,
   "metadata": {},
   "outputs": [],
   "source": [
    "y_train = train['interest_level']\n",
    "\n",
    "train = train.drop(['interest_level'], axis=1, inplace = False)\n",
    "X_train = train"
   ]
  },
  {
   "cell_type": "code",
   "execution_count": 4,
   "metadata": {},
   "outputs": [
    {
     "name": "stderr",
     "output_type": "stream",
     "text": [
      "C:\\ProgramData\\Anaconda3\\lib\\site-packages\\sklearn\\model_selection\\_split.py:2026: FutureWarning: From version 0.21, test_size will always complement train_size unless both are specified.\n",
      "  FutureWarning)\n"
     ]
    }
   ],
   "source": [
    "# 训练样本6w+，交叉验证太慢，用train_test_split估计模型性能\n",
    "from sklearn.model_selection import train_test_split\n",
    "X_train_part, X_val, y_train_part, y_val = train_test_split(X_train, y_train, train_size = 0.2,random_state = 0)"
   ]
  },
  {
   "cell_type": "code",
   "execution_count": 5,
   "metadata": {},
   "outputs": [
    {
     "data": {
      "text/plain": [
       "(9870, 227)"
      ]
     },
     "execution_count": 5,
     "metadata": {},
     "output_type": "execute_result"
    }
   ],
   "source": [
    "X_train_part.shape"
   ]
  },
  {
   "cell_type": "markdown",
   "metadata": {},
   "source": [
    "各类样本不均衡，交叉验证是采用StratifiedKFold，在每折采样时各类样本按比例采样"
   ]
  },
  {
   "cell_type": "code",
   "execution_count": 6,
   "metadata": {},
   "outputs": [],
   "source": [
    "# prepare cross validation\n",
    "kfold = StratifiedKFold(n_splits=5, shuffle=True, random_state=3)"
   ]
  },
  {
   "cell_type": "markdown",
   "metadata": {},
   "source": [
    "再次调整弱分类器数目"
   ]
  },
  {
   "cell_type": "code",
   "execution_count": 7,
   "metadata": {},
   "outputs": [],
   "source": [
    "def modelfit(alg, X_train, y_train, useTrainCV=True, cv_folds=None, early_stopping_rounds=100):\n",
    "    \n",
    "    if useTrainCV:\n",
    "        xgb_param = alg.get_xgb_params()\n",
    "        xgb_param['num_class'] = 9\n",
    "        \n",
    "        xgtrain = xgb.DMatrix(X_train, label = y_train)\n",
    "        \n",
    "        cvresult = xgb.cv(xgb_param, xgtrain, num_boost_round=alg.get_params()['n_estimators'], folds =cv_folds,\n",
    "                         metrics='mlogloss', early_stopping_rounds=early_stopping_rounds)\n",
    "        \n",
    "        n_estimators = cvresult.shape[0]\n",
    "        alg.set_params(n_estimators = n_estimators)\n",
    "        \n",
    "        print (cvresult)\n",
    "        #result = pd.DataFrame(cvresult)   #cv缺省返回结果为DataFrame\n",
    "        #result.to_csv('my_preds.csv', index_label = 'n_estimators')\n",
    "        cvresult.to_csv('my_preds4_2_3_699.csv', index_label = 'n_estimators')\n",
    "        \n",
    "        # plot\n",
    "        test_means = cvresult['test-mlogloss-mean']\n",
    "        test_stds = cvresult['test-mlogloss-std'] \n",
    "        \n",
    "        train_means = cvresult['train-mlogloss-mean']\n",
    "        train_stds = cvresult['train-mlogloss-std'] \n",
    "\n",
    "        x_axis = range(0, n_estimators)\n",
    "        pyplot.errorbar(x_axis, test_means, yerr=test_stds ,label='Test')\n",
    "        pyplot.errorbar(x_axis, train_means, yerr=train_stds ,label='Train')\n",
    "        pyplot.title(\"XGBoost n_estimators vs Log Loss\")\n",
    "        pyplot.xlabel( 'n_estimators' )\n",
    "        pyplot.ylabel( 'Log Loss' )\n",
    "        pyplot.savefig( 'n_estimators4_2_3_699.png' )\n",
    "    \n",
    "    #Fit the algorithm on the data\n",
    "    alg.fit(X_train, y_train, eval_metric='mlogloss')\n",
    "        \n",
    "    #Predict training set:\n",
    "    train_predprob = alg.predict_proba(X_train)\n",
    "    logloss = log_loss(y_train, train_predprob)\n",
    "\n",
    "        \n",
    "    #Print model report:\n",
    "    print ('logloss of train :' )\n",
    "    print (logloss)"
   ]
  },
  {
   "cell_type": "code",
   "execution_count": 8,
   "metadata": {},
   "outputs": [
    {
     "name": "stdout",
     "output_type": "stream",
     "text": [
      "     train-mlogloss-mean  train-mlogloss-std  test-mlogloss-mean  \\\n",
      "0               1.954303            0.001869            1.961597   \n",
      "1               1.777775            0.002509            1.792024   \n",
      "2               1.637797            0.004751            1.658035   \n",
      "3               1.523091            0.004554            1.548237   \n",
      "4               1.425891            0.005277            1.454989   \n",
      "5               1.341796            0.004756            1.375528   \n",
      "6               1.269345            0.005882            1.306226   \n",
      "7               1.203623            0.006282            1.245136   \n",
      "8               1.146978            0.006021            1.192566   \n",
      "9               1.095797            0.006319            1.144731   \n",
      "10              1.049504            0.005939            1.102781   \n",
      "11              1.008500            0.005431            1.064910   \n",
      "12              0.970954            0.005918            1.031250   \n",
      "13              0.937006            0.005852            1.000374   \n",
      "14              0.906382            0.005711            0.972425   \n",
      "15              0.877603            0.005473            0.946945   \n",
      "16              0.851514            0.005400            0.924094   \n",
      "17              0.827621            0.005420            0.903045   \n",
      "18              0.805718            0.005860            0.883477   \n",
      "19              0.785715            0.006157            0.866025   \n",
      "20              0.766902            0.005752            0.850334   \n",
      "21              0.749183            0.005904            0.835697   \n",
      "22              0.732734            0.006712            0.822437   \n",
      "23              0.718043            0.007020            0.809821   \n",
      "24              0.704025            0.007219            0.798431   \n",
      "25              0.691309            0.007604            0.787861   \n",
      "26              0.679427            0.007497            0.778032   \n",
      "27              0.668163            0.007555            0.768873   \n",
      "28              0.657706            0.007658            0.760368   \n",
      "29              0.647915            0.007595            0.752933   \n",
      "..                   ...                 ...                 ...   \n",
      "74              0.449894            0.005694            0.643128   \n",
      "75              0.448034            0.005928            0.642630   \n",
      "76              0.445694            0.005634            0.642137   \n",
      "77              0.443577            0.005843            0.641730   \n",
      "78              0.441188            0.005897            0.641302   \n",
      "79              0.438910            0.005792            0.640993   \n",
      "80              0.436613            0.005307            0.640833   \n",
      "81              0.434606            0.005321            0.640352   \n",
      "82              0.432559            0.005003            0.640068   \n",
      "83              0.430520            0.005175            0.639957   \n",
      "84              0.428580            0.005318            0.639730   \n",
      "85              0.426757            0.004858            0.639589   \n",
      "86              0.424995            0.004803            0.639385   \n",
      "87              0.423106            0.005127            0.639162   \n",
      "88              0.421580            0.005396            0.638902   \n",
      "89              0.419950            0.005624            0.638588   \n",
      "90              0.417927            0.005659            0.638354   \n",
      "91              0.416465            0.005223            0.637955   \n",
      "92              0.414838            0.005334            0.637723   \n",
      "93              0.413153            0.005157            0.637495   \n",
      "94              0.411259            0.004995            0.637396   \n",
      "95              0.409472            0.004839            0.637040   \n",
      "96              0.408080            0.005038            0.636942   \n",
      "97              0.406424            0.005145            0.636840   \n",
      "98              0.404559            0.004952            0.636735   \n",
      "99              0.403022            0.004707            0.636539   \n",
      "100             0.401565            0.004568            0.636452   \n",
      "101             0.399579            0.004414            0.636369   \n",
      "102             0.397938            0.004507            0.636353   \n",
      "103             0.396258            0.004503            0.636243   \n",
      "\n",
      "     test-mlogloss-std  \n",
      "0             0.001224  \n",
      "1             0.002396  \n",
      "2             0.001943  \n",
      "3             0.003275  \n",
      "4             0.002024  \n",
      "5             0.002870  \n",
      "6             0.003091  \n",
      "7             0.003672  \n",
      "8             0.003692  \n",
      "9             0.004060  \n",
      "10            0.004462  \n",
      "11            0.005269  \n",
      "12            0.005549  \n",
      "13            0.005989  \n",
      "14            0.006810  \n",
      "15            0.006935  \n",
      "16            0.007365  \n",
      "17            0.007804  \n",
      "18            0.008238  \n",
      "19            0.008861  \n",
      "20            0.009102  \n",
      "21            0.009526  \n",
      "22            0.009662  \n",
      "23            0.009784  \n",
      "24            0.009986  \n",
      "25            0.010085  \n",
      "26            0.010485  \n",
      "27            0.010478  \n",
      "28            0.010238  \n",
      "29            0.010595  \n",
      "..                 ...  \n",
      "74            0.011736  \n",
      "75            0.011736  \n",
      "76            0.011863  \n",
      "77            0.012076  \n",
      "78            0.011988  \n",
      "79            0.012232  \n",
      "80            0.012172  \n",
      "81            0.012049  \n",
      "82            0.011864  \n",
      "83            0.011818  \n",
      "84            0.011948  \n",
      "85            0.012049  \n",
      "86            0.012299  \n",
      "87            0.012312  \n",
      "88            0.012158  \n",
      "89            0.011934  \n",
      "90            0.012029  \n",
      "91            0.012056  \n",
      "92            0.012034  \n",
      "93            0.012457  \n",
      "94            0.012539  \n",
      "95            0.012323  \n",
      "96            0.012429  \n",
      "97            0.012499  \n",
      "98            0.012707  \n",
      "99            0.012942  \n",
      "100           0.012851  \n",
      "101           0.012758  \n",
      "102           0.012576  \n",
      "103           0.012793  \n",
      "\n",
      "[104 rows x 4 columns]\n",
      "logloss of train :\n",
      "0.44050411019807356\n"
     ]
    },
    {
     "data": {
      "image/png": "[encoded data removed]",
      "text/plain": [
       "<Figure size 432x288 with 1 Axes>"
      ]
     },
     "metadata": {},
     "output_type": "display_data"
    }
   ],
   "source": [
    "#调整max_depth和min_child_weight之后再次调整n_estimators(6,4)\n",
    "xgb2_3 = XGBClassifier(\n",
    "        learning_rate =0.1,\n",
    "        n_estimators=699,  #数值大没关系，cv会自动返回合适的n_estimators\n",
    "        max_depth=6,\n",
    "        min_child_weight=3,\n",
    "        gamma=0,\n",
    "        subsample=0.5,\n",
    "        colsample_bytree=0.8,\n",
    "        colsample_bylevel=0.7,\n",
    "        objective= 'multi:softprob',\n",
    "        seed=3)\n",
    "\n",
    "modelfit(xgb2_3, X_train_part, y_train_part, cv_folds = kfold)"
   ]
  },
  {
   "cell_type": "code",
   "execution_count": 10,
   "metadata": {},
   "outputs": [],
   "source": [
    "# from sklearn.model_selection import cross_val_score\n",
    "# results = cross_val_score(xgb2_3, X_train, y_train, metrics='mlogloss', cv=kfold)\n",
    "# print (results)\n",
    "# print(\"CV logloss: %.2f%% (%.2f%%)\" % (results.mean()*100, results.std()*100))"
   ]
  },
  {
   "cell_type": "code",
   "execution_count": 12,
   "metadata": {},
   "outputs": [
    {
     "name": "stderr",
     "output_type": "stream",
     "text": [
      "C:\\ProgramData\\Anaconda3\\lib\\site-packages\\ipykernel_launcher.py:1: FutureWarning: from_csv is deprecated. Please use read_csv(...) instead. Note that some of the default arguments are different, so please refer to the documentation for from_csv when changing your function calls\n",
      "  \"\"\"Entry point for launching an IPython kernel.\n"
     ]
    },
    {
     "data": {
      "image/png": "[encoded data removed]",
      "text/plain": [
       "<Figure size 600x600 with 1 Axes>"
      ]
     },
     "metadata": {},
     "output_type": "display_data"
    }
   ],
   "source": [
    "cvresult = pd.DataFrame.from_csv('my_preds4_2_3_699.csv')\n",
    "\n",
    "cvresult = cvresult.iloc[100:]\n",
    "# plot\n",
    "test_means = cvresult['test-mlogloss-mean']\n",
    "test_stds = cvresult['test-mlogloss-std'] \n",
    "        \n",
    "train_means = cvresult['train-mlogloss-mean']\n",
    "train_stds = cvresult['train-mlogloss-std'] \n",
    "\n",
    "x_axis = range(100,cvresult.shape[0]+100)\n",
    "        \n",
    "fig = pyplot.figure(figsize=(6, 6), dpi=100)\n",
    "pyplot.errorbar(x_axis, test_means, yerr=test_stds ,label='Test')\n",
    "pyplot.errorbar(x_axis, train_means, yerr=train_stds ,label='Train')\n",
    "pyplot.title(\"XGBoost n_estimators vs Log Loss\")\n",
    "pyplot.xlabel( 'n_estimators' )\n",
    "pyplot.ylabel( 'Log Loss' )\n",
    "pyplot.savefig( 'n_estimators_detail4_2_3_699.png' )\n",
    "\n",
    "pyplot.show()"
   ]
  },
  {
   "cell_type": "markdown",
   "metadata": {},
   "source": [
    "当前参数调整得到的n_estimators最优值为103。"
   ]
  }
 ],
 "metadata": {
  "kernelspec": {
   "display_name": "Python 3",
   "language": "python",
   "name": "python3"
  },
  "language_info": {
   "codemirror_mode": {
    "name": "ipython",
    "version": 3
   },
   "file_extension": ".py",
   "mimetype": "text/x-python",
   "name": "python",
   "nbconvert_exporter": "python",
   "pygments_lexer": "ipython3",
   "version": "3.6.5"
  }
 },
 "nbformat": 4,
 "nbformat_minor": 2
}
