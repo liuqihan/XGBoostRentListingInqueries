{
 "cells": [
  {
   "cell_type": "markdown",
   "metadata": {},
   "source": [
    "# 调整树的参数：subsample 和 colsample_bytree\n",
    "(粗调，参数的步长为0.1；下一步是在粗调最佳参数周围，将步长降为0.05，进行精细调整)"
   ]
  },
  {
   "cell_type": "code",
   "execution_count": 1,
   "metadata": {},
   "outputs": [],
   "source": [
    "from xgboost import XGBClassifier\n",
    "import xgboost as xgb\n",
    "\n",
    "import pandas as pd \n",
    "import numpy as np\n",
    "\n",
    "from sklearn.model_selection import GridSearchCV\n",
    "from sklearn.model_selection import StratifiedKFold\n",
    "\n",
    "from sklearn.metrics import log_loss\n",
    "\n",
    "from matplotlib import pyplot\n",
    "import seaborn as sns\n",
    "%matplotlib inline"
   ]
  },
  {
   "cell_type": "markdown",
   "metadata": {},
   "source": [
    "## 读取数据"
   ]
  },
  {
   "cell_type": "code",
   "execution_count": 2,
   "metadata": {},
   "outputs": [],
   "source": [
    "# path to where the data lies\n",
    "dpath = './data/'\n",
    "train = pd.read_csv(dpath +\"RentListingInquries_FE_train.csv\")\n",
    "# train.head()"
   ]
  },
  {
   "cell_type": "markdown",
   "metadata": {},
   "source": [
    "## 准备数据"
   ]
  },
  {
   "cell_type": "code",
   "execution_count": 3,
   "metadata": {},
   "outputs": [],
   "source": [
    "y_train = train['interest_level']\n",
    "\n",
    "train = train.drop(['interest_level'], axis=1, inplace = False)\n",
    "X_train = train"
   ]
  },
  {
   "cell_type": "code",
   "execution_count": 4,
   "metadata": {},
   "outputs": [
    {
     "name": "stderr",
     "output_type": "stream",
     "text": [
      "C:\\ProgramData\\Anaconda3\\lib\\site-packages\\sklearn\\model_selection\\_split.py:2026: FutureWarning: From version 0.21, test_size will always complement train_size unless both are specified.\n",
      "  FutureWarning)\n"
     ]
    }
   ],
   "source": [
    "# 训练样本6w+，交叉验证太慢，用train_test_split估计模型性能\n",
    "from sklearn.model_selection import train_test_split\n",
    "X_train_part, X_val, y_train_part, y_val = train_test_split(X_train, y_train, train_size = 0.2,random_state = 0)"
   ]
  },
  {
   "cell_type": "code",
   "execution_count": 5,
   "metadata": {},
   "outputs": [
    {
     "data": {
      "text/plain": [
       "(9870, 227)"
      ]
     },
     "execution_count": 5,
     "metadata": {},
     "output_type": "execute_result"
    }
   ],
   "source": [
    "X_train_part.shape"
   ]
  },
  {
   "cell_type": "markdown",
   "metadata": {},
   "source": [
    "各类样本不均衡，交叉验证是采用StratifiedKFold，在每折采样时各类样本按比例采样"
   ]
  },
  {
   "cell_type": "code",
   "execution_count": 6,
   "metadata": {},
   "outputs": [],
   "source": [
    "# prepare cross validation\n",
    "kfold = StratifiedKFold(n_splits=5, shuffle=True, random_state=3)"
   ]
  },
  {
   "cell_type": "markdown",
   "metadata": {},
   "source": [
    "第二轮参数调整得到的n_estimators最优值（104），其余参数继续默认值"
   ]
  },
  {
   "cell_type": "code",
   "execution_count": 7,
   "metadata": {},
   "outputs": [
    {
     "data": {
      "text/plain": [
       "{'subsample': [0.3, 0.4, 0.5, 0.6, 0.7, 0.8],\n",
       " 'colsample_bytree': [0.6, 0.7, 0.8, 0.9]}"
      ]
     },
     "execution_count": 7,
     "metadata": {},
     "output_type": "execute_result"
    }
   ],
   "source": [
    "#max_depth 建议3-10， min_child_weight=1／sqrt(ratio_rare_event) =5.5\n",
    "subsample = [i/10.0 for i in range(3,9)]\n",
    "colsample_bytree = [i/10.0 for i in range(6,10)]\n",
    "param_test3_1 = dict(subsample=subsample, colsample_bytree=colsample_bytree)\n",
    "param_test3_1"
   ]
  },
  {
   "cell_type": "code",
   "execution_count": 8,
   "metadata": {},
   "outputs": [
    {
     "name": "stderr",
     "output_type": "stream",
     "text": [
      "C:\\ProgramData\\Anaconda3\\lib\\site-packages\\sklearn\\model_selection\\_search.py:761: DeprecationWarning: The grid_scores_ attribute was deprecated in version 0.18 in favor of the more elaborate cv_results_ attribute. The grid_scores_ attribute will not be available from 0.20\n",
      "  DeprecationWarning)\n"
     ]
    },
    {
     "data": {
      "text/plain": [
       "([mean: -0.63354, std: 0.01050, params: {'colsample_bytree': 0.6, 'subsample': 0.3},\n",
       "  mean: -0.62874, std: 0.00803, params: {'colsample_bytree': 0.6, 'subsample': 0.4},\n",
       "  mean: -0.62577, std: 0.00497, params: {'colsample_bytree': 0.6, 'subsample': 0.5},\n",
       "  mean: -0.62467, std: 0.00792, params: {'colsample_bytree': 0.6, 'subsample': 0.6},\n",
       "  mean: -0.62240, std: 0.00938, params: {'colsample_bytree': 0.6, 'subsample': 0.7},\n",
       "  mean: -0.62194, std: 0.00815, params: {'colsample_bytree': 0.6, 'subsample': 0.8},\n",
       "  mean: -0.62972, std: 0.00808, params: {'colsample_bytree': 0.7, 'subsample': 0.3},\n",
       "  mean: -0.62802, std: 0.00732, params: {'colsample_bytree': 0.7, 'subsample': 0.4},\n",
       "  mean: -0.62740, std: 0.00874, params: {'colsample_bytree': 0.7, 'subsample': 0.5},\n",
       "  mean: -0.62292, std: 0.00749, params: {'colsample_bytree': 0.7, 'subsample': 0.6},\n",
       "  mean: -0.62222, std: 0.00784, params: {'colsample_bytree': 0.7, 'subsample': 0.7},\n",
       "  mean: -0.62193, std: 0.00837, params: {'colsample_bytree': 0.7, 'subsample': 0.8},\n",
       "  mean: -0.63289, std: 0.00952, params: {'colsample_bytree': 0.8, 'subsample': 0.3},\n",
       "  mean: -0.62673, std: 0.00746, params: {'colsample_bytree': 0.8, 'subsample': 0.4},\n",
       "  mean: -0.62514, std: 0.00543, params: {'colsample_bytree': 0.8, 'subsample': 0.5},\n",
       "  mean: -0.62411, std: 0.00596, params: {'colsample_bytree': 0.8, 'subsample': 0.6},\n",
       "  mean: -0.62118, std: 0.00649, params: {'colsample_bytree': 0.8, 'subsample': 0.7},\n",
       "  mean: -0.62313, std: 0.00772, params: {'colsample_bytree': 0.8, 'subsample': 0.8},\n",
       "  mean: -0.63122, std: 0.00933, params: {'colsample_bytree': 0.9, 'subsample': 0.3},\n",
       "  mean: -0.62991, std: 0.00947, params: {'colsample_bytree': 0.9, 'subsample': 0.4},\n",
       "  mean: -0.62627, std: 0.01030, params: {'colsample_bytree': 0.9, 'subsample': 0.5},\n",
       "  mean: -0.62446, std: 0.00766, params: {'colsample_bytree': 0.9, 'subsample': 0.6},\n",
       "  mean: -0.62416, std: 0.00692, params: {'colsample_bytree': 0.9, 'subsample': 0.7},\n",
       "  mean: -0.62322, std: 0.00726, params: {'colsample_bytree': 0.9, 'subsample': 0.8}],\n",
       " {'colsample_bytree': 0.8, 'subsample': 0.7},\n",
       " -0.6211825901670985)"
      ]
     },
     "execution_count": 8,
     "metadata": {},
     "output_type": "execute_result"
    }
   ],
   "source": [
    "xgb3_1 = XGBClassifier(\n",
    "        learning_rate =0.1,\n",
    "        n_estimators=103,  #第二轮参数调整得到的n_estimators最优值\n",
    "        max_depth=6,\n",
    "        min_child_weight=3,\n",
    "        gamma=0,\n",
    "        subsample=0.5,\n",
    "        colsample_bytree=0.8,\n",
    "        colsample_bylevel = 0.7,\n",
    "        objective= 'multi:softprob',\n",
    "        seed=3)\n",
    "\n",
    "\n",
    "gsearch3_1 = GridSearchCV(xgb3_1, param_grid = param_test3_1, scoring='neg_log_loss',n_jobs=-1, cv=kfold)\n",
    "gsearch3_1.fit(X_train_part , y_train_part)\n",
    "\n",
    "gsearch3_1.grid_scores_, gsearch3_1.best_params_,     gsearch3_1.best_score_"
   ]
  },
  {
   "cell_type": "code",
   "execution_count": 9,
   "metadata": {},
   "outputs": [
    {
     "name": "stderr",
     "output_type": "stream",
     "text": [
      "C:\\ProgramData\\Anaconda3\\lib\\site-packages\\sklearn\\utils\\deprecation.py:122: FutureWarning: You are accessing a training score ('split0_train_score'), which will not be available by default any more in 0.21. If you need training scores, please set return_train_score=True\n",
      "  warnings.warn(*warn_args, **warn_kwargs)\n",
      "C:\\ProgramData\\Anaconda3\\lib\\site-packages\\sklearn\\utils\\deprecation.py:122: FutureWarning: You are accessing a training score ('split1_train_score'), which will not be available by default any more in 0.21. If you need training scores, please set return_train_score=True\n",
      "  warnings.warn(*warn_args, **warn_kwargs)\n",
      "C:\\ProgramData\\Anaconda3\\lib\\site-packages\\sklearn\\utils\\deprecation.py:122: FutureWarning: You are accessing a training score ('split2_train_score'), which will not be available by default any more in 0.21. If you need training scores, please set return_train_score=True\n",
      "  warnings.warn(*warn_args, **warn_kwargs)\n",
      "C:\\ProgramData\\Anaconda3\\lib\\site-packages\\sklearn\\utils\\deprecation.py:122: FutureWarning: You are accessing a training score ('split3_train_score'), which will not be available by default any more in 0.21. If you need training scores, please set return_train_score=True\n",
      "  warnings.warn(*warn_args, **warn_kwargs)\n",
      "C:\\ProgramData\\Anaconda3\\lib\\site-packages\\sklearn\\utils\\deprecation.py:122: FutureWarning: You are accessing a training score ('split4_train_score'), which will not be available by default any more in 0.21. If you need training scores, please set return_train_score=True\n",
      "  warnings.warn(*warn_args, **warn_kwargs)\n",
      "C:\\ProgramData\\Anaconda3\\lib\\site-packages\\sklearn\\utils\\deprecation.py:122: FutureWarning: You are accessing a training score ('mean_train_score'), which will not be available by default any more in 0.21. If you need training scores, please set return_train_score=True\n",
      "  warnings.warn(*warn_args, **warn_kwargs)\n",
      "C:\\ProgramData\\Anaconda3\\lib\\site-packages\\sklearn\\utils\\deprecation.py:122: FutureWarning: You are accessing a training score ('std_train_score'), which will not be available by default any more in 0.21. If you need training scores, please set return_train_score=True\n",
      "  warnings.warn(*warn_args, **warn_kwargs)\n"
     ]
    },
    {
     "data": {
      "text/plain": [
       "{'mean_fit_time': array([57.23838515, 60.93031459, 61.98598161, 62.75512486, 62.43877001,\n",
       "        62.92167888, 58.93693857, 63.24421597, 67.32250633, 67.60794206,\n",
       "        67.15914202, 67.0616044 , 63.04218602, 67.10319419, 72.41182947,\n",
       "        71.84341254, 71.56775002, 71.63457513, 65.40464931, 71.42054367,\n",
       "        75.62609358, 76.80673594, 76.48419776, 71.79773459]),\n",
       " 'std_fit_time': array([2.42462273, 1.45850056, 0.10652793, 0.43749914, 0.16759255,\n",
       "        0.76284463, 0.81371123, 0.64147115, 0.66389042, 0.35106698,\n",
       "        0.34025925, 0.05938975, 0.7906469 , 0.33846658, 0.77259105,\n",
       "        0.20278833, 0.11378523, 0.20935183, 0.18160879, 0.06783759,\n",
       "        0.40940595, 0.27817674, 0.09456175, 5.33970218]),\n",
       " 'mean_score_time': array([0.15917363, 0.13663588, 0.14361677, 0.1424192 , 0.14142213,\n",
       "        0.14860363, 0.14321795, 0.15119586, 0.14979963, 0.14541144,\n",
       "        0.14241996, 0.13862987, 0.13862653, 0.1374332 , 0.1384304 ,\n",
       "        0.13763194, 0.13703423, 0.14561172, 0.14441586, 0.14182143,\n",
       "        0.13803091, 0.13463936, 0.13743262, 0.11249924]),\n",
       " 'std_score_time': array([0.02450571, 0.00315419, 0.01159602, 0.00619352, 0.00757979,\n",
       "        0.01253665, 0.00799397, 0.02773626, 0.01284032, 0.01173886,\n",
       "        0.00298521, 0.00710804, 0.0016711 , 0.00400951, 0.00513908,\n",
       "        0.00178406, 0.00381646, 0.00898699, 0.01433336, 0.00565579,\n",
       "        0.00421286, 0.00327745, 0.00425053, 0.02488495]),\n",
       " 'param_colsample_bytree': masked_array(data=[0.6, 0.6, 0.6, 0.6, 0.6, 0.6, 0.7, 0.7, 0.7, 0.7, 0.7,\n",
       "                    0.7, 0.8, 0.8, 0.8, 0.8, 0.8, 0.8, 0.9, 0.9, 0.9, 0.9,\n",
       "                    0.9, 0.9],\n",
       "              mask=[False, False, False, False, False, False, False, False,\n",
       "                    False, False, False, False, False, False, False, False,\n",
       "                    False, False, False, False, False, False, False, False],\n",
       "        fill_value='?',\n",
       "             dtype=object),\n",
       " 'param_subsample': masked_array(data=[0.3, 0.4, 0.5, 0.6, 0.7, 0.8, 0.3, 0.4, 0.5, 0.6, 0.7,\n",
       "                    0.8, 0.3, 0.4, 0.5, 0.6, 0.7, 0.8, 0.3, 0.4, 0.5, 0.6,\n",
       "                    0.7, 0.8],\n",
       "              mask=[False, False, False, False, False, False, False, False,\n",
       "                    False, False, False, False, False, False, False, False,\n",
       "                    False, False, False, False, False, False, False, False],\n",
       "        fill_value='?',\n",
       "             dtype=object),\n",
       " 'params': [{'colsample_bytree': 0.6, 'subsample': 0.3},\n",
       "  {'colsample_bytree': 0.6, 'subsample': 0.4},\n",
       "  {'colsample_bytree': 0.6, 'subsample': 0.5},\n",
       "  {'colsample_bytree': 0.6, 'subsample': 0.6},\n",
       "  {'colsample_bytree': 0.6, 'subsample': 0.7},\n",
       "  {'colsample_bytree': 0.6, 'subsample': 0.8},\n",
       "  {'colsample_bytree': 0.7, 'subsample': 0.3},\n",
       "  {'colsample_bytree': 0.7, 'subsample': 0.4},\n",
       "  {'colsample_bytree': 0.7, 'subsample': 0.5},\n",
       "  {'colsample_bytree': 0.7, 'subsample': 0.6},\n",
       "  {'colsample_bytree': 0.7, 'subsample': 0.7},\n",
       "  {'colsample_bytree': 0.7, 'subsample': 0.8},\n",
       "  {'colsample_bytree': 0.8, 'subsample': 0.3},\n",
       "  {'colsample_bytree': 0.8, 'subsample': 0.4},\n",
       "  {'colsample_bytree': 0.8, 'subsample': 0.5},\n",
       "  {'colsample_bytree': 0.8, 'subsample': 0.6},\n",
       "  {'colsample_bytree': 0.8, 'subsample': 0.7},\n",
       "  {'colsample_bytree': 0.8, 'subsample': 0.8},\n",
       "  {'colsample_bytree': 0.9, 'subsample': 0.3},\n",
       "  {'colsample_bytree': 0.9, 'subsample': 0.4},\n",
       "  {'colsample_bytree': 0.9, 'subsample': 0.5},\n",
       "  {'colsample_bytree': 0.9, 'subsample': 0.6},\n",
       "  {'colsample_bytree': 0.9, 'subsample': 0.7},\n",
       "  {'colsample_bytree': 0.9, 'subsample': 0.8}],\n",
       " 'split0_test_score': array([-0.63860667, -0.63571932, -0.62754553, -0.62798527, -0.62548281,\n",
       "        -0.6275647 , -0.62818302, -0.63009181, -0.6279372 , -0.62810363,\n",
       "        -0.62729599, -0.626746  , -0.63904881, -0.63012981, -0.62718282,\n",
       "        -0.62621887, -0.62427299, -0.62813553, -0.63356407, -0.63223918,\n",
       "        -0.63093181, -0.62754465, -0.63069888, -0.62863224]),\n",
       " 'split1_test_score': array([-0.65194066, -0.64094443, -0.63400103, -0.63704136, -0.63864862,\n",
       "        -0.63526174, -0.64495859, -0.64129564, -0.64378115, -0.63459701,\n",
       "        -0.63273084, -0.63528753, -0.64863897, -0.63954809, -0.63487911,\n",
       "        -0.63432918, -0.6322779 , -0.63487802, -0.64733123, -0.64491768,\n",
       "        -0.64382372, -0.63806197, -0.63403227, -0.63476846]),\n",
       " 'split2_test_score': array([-0.62469023, -0.62206205, -0.62517588, -0.62190973, -0.61797743,\n",
       "        -0.61432256, -0.6253762 , -0.62337765, -0.62020743, -0.62015332,\n",
       "        -0.61986766, -0.61517617, -0.62769553, -0.62391083, -0.62180994,\n",
       "        -0.6224894 , -0.61730453, -0.61948881, -0.62300287, -0.62393352,\n",
       "        -0.61935122, -0.62042528, -0.61782904, -0.61937189]),\n",
       " 'split3_test_score': array([-0.62526932, -0.62147796, -0.61904441, -0.6128037 , -0.61072621,\n",
       "        -0.61553796, -0.62120967, -0.62057667, -0.61982344, -0.6135981 ,\n",
       "        -0.6093546 , -0.61187215, -0.62392556, -0.61854957, -0.62003631,\n",
       "        -0.61666432, -0.61383558, -0.61233469, -0.62107053, -0.61655937,\n",
       "        -0.61436677, -0.619344  , -0.61713233, -0.61638461]),\n",
       " 'split4_test_score': array([-0.6271756 , -0.623489  , -0.62310534, -0.62358643, -0.61918566,\n",
       "        -0.61702226, -0.62886798, -0.62474609, -0.62526015, -0.61813368,\n",
       "        -0.62185735, -0.62057051, -0.62514682, -0.62150798, -0.62176708,\n",
       "        -0.6208255 , -0.61821888, -0.62082155, -0.63114056, -0.63192227,\n",
       "        -0.62288218, -0.61692561, -0.62108589, -0.61692169]),\n",
       " 'mean_test_score': array([-0.63353765, -0.62873979, -0.62577489, -0.62466574, -0.62240478,\n",
       "        -0.62194291, -0.62971902, -0.62801811, -0.62740214, -0.62291816,\n",
       "        -0.62222184, -0.6219311 , -0.63289255, -0.62673013, -0.6251356 ,\n",
       "        -0.624106  , -0.62118259, -0.62313246, -0.6312221 , -0.62991444,\n",
       "        -0.62627196, -0.62446138, -0.62415666, -0.62321696]),\n",
       " 'std_test_score': array([0.01050215, 0.00803212, 0.00497167, 0.00792021, 0.00937752,\n",
       "        0.00815236, 0.00808205, 0.007324  , 0.00874465, 0.00749247,\n",
       "        0.00784143, 0.0083696 , 0.00952103, 0.00745642, 0.005432  ,\n",
       "        0.00596201, 0.00648781, 0.00772279, 0.0093339 , 0.00947273,\n",
       "        0.01030441, 0.00766452, 0.00691599, 0.00726434]),\n",
       " 'rank_test_score': array([24, 19, 14, 12,  5,  3, 20, 18, 17,  6,  4,  2, 23, 16, 13,  9,  1,\n",
       "         7, 22, 21, 15, 11, 10,  8]),\n",
       " 'split0_train_score': array([-0.45633368, -0.44164135, -0.43444191, -0.42624113, -0.41928185,\n",
       "        -0.41824844, -0.45544278, -0.43706606, -0.42869498, -0.41977008,\n",
       "        -0.41725779, -0.41246837, -0.44549716, -0.43286862, -0.42422239,\n",
       "        -0.41322601, -0.40794649, -0.41068456, -0.44230548, -0.42844468,\n",
       "        -0.41808214, -0.41158397, -0.41035624, -0.40871748]),\n",
       " 'split1_train_score': array([-0.45500027, -0.44189066, -0.42966559, -0.42424556, -0.4148653 ,\n",
       "        -0.41947037, -0.45296762, -0.43368425, -0.42400158, -0.41514313,\n",
       "        -0.41116771, -0.41226369, -0.44250336, -0.42992878, -0.41849524,\n",
       "        -0.41581601, -0.41011424, -0.40740781, -0.43919449, -0.42599299,\n",
       "        -0.41662303, -0.41010981, -0.40436175, -0.40401569]),\n",
       " 'split2_train_score': array([-0.45771668, -0.45022194, -0.43988734, -0.43109464, -0.42622399,\n",
       "        -0.42227658, -0.45275706, -0.43867878, -0.4329954 , -0.42482258,\n",
       "        -0.42203142, -0.41911716, -0.45057793, -0.43360486, -0.4232225 ,\n",
       "        -0.42334568, -0.41918186, -0.41694528, -0.44554038, -0.42949082,\n",
       "        -0.4199135 , -0.41407399, -0.41111207, -0.41193733]),\n",
       " 'split3_train_score': array([-0.45737194, -0.445093  , -0.43641934, -0.43078804, -0.42295126,\n",
       "        -0.42161388, -0.45323399, -0.43529716, -0.43063755, -0.42570906,\n",
       "        -0.42145365, -0.41396301, -0.45337677, -0.4344356 , -0.42883594,\n",
       "        -0.41719169, -0.41834158, -0.41222161, -0.44463885, -0.43049414,\n",
       "        -0.42350429, -0.41361883, -0.410676  , -0.40634291]),\n",
       " 'split4_train_score': array([-0.45919027, -0.44399239, -0.43850971, -0.42431175, -0.4243175 ,\n",
       "        -0.42007488, -0.45236106, -0.43703343, -0.4284678 , -0.42304157,\n",
       "        -0.42502017, -0.41936368, -0.45168664, -0.43371674, -0.42373752,\n",
       "        -0.42348495, -0.41456324, -0.41209415, -0.44570888, -0.43085464,\n",
       "        -0.42124618, -0.41366822, -0.408398  , -0.40875497]),\n",
       " 'mean_train_score': array([-0.45712257, -0.44456786, -0.43578478, -0.42733622, -0.42152798,\n",
       "        -0.42033683, -0.4533525 , -0.43635193, -0.42895946, -0.42169728,\n",
       "        -0.41938615, -0.41543518, -0.44872837, -0.43291092, -0.42370272,\n",
       "        -0.41861287, -0.41402948, -0.41187068, -0.44347761, -0.42905545,\n",
       "        -0.41987383, -0.41261096, -0.40898081, -0.40795368]),\n",
       " 'std_train_score': array([0.00140122, 0.00310829, 0.0035751 , 0.00303116, 0.00403227,\n",
       "        0.00145425, 0.00108342, 0.00170984, 0.00296638, 0.00385591,\n",
       "        0.00479764, 0.00316284, 0.0040736 , 0.00157166, 0.00328541,\n",
       "        0.00412304, 0.00442172, 0.00307404, 0.00246175, 0.00174632,\n",
       "        0.00240179, 0.00152214, 0.0024893 , 0.0026532 ])}"
      ]
     },
     "execution_count": 9,
     "metadata": {},
     "output_type": "execute_result"
    }
   ],
   "source": [
    "gsearch3_1.cv_results_"
   ]
  },
  {
   "cell_type": "code",
   "execution_count": 12,
   "metadata": {},
   "outputs": [
    {
     "name": "stdout",
     "output_type": "stream",
     "text": [
      "Best: -0.621183 using {'colsample_bytree': 0.8, 'subsample': 0.7}\n"
     ]
    },
    {
     "name": "stderr",
     "output_type": "stream",
     "text": [
      "C:\\ProgramData\\Anaconda3\\lib\\site-packages\\sklearn\\utils\\deprecation.py:122: FutureWarning: You are accessing a training score ('mean_train_score'), which will not be available by default any more in 0.21. If you need training scores, please set return_train_score=True\n",
      "  warnings.warn(*warn_args, **warn_kwargs)\n",
      "C:\\ProgramData\\Anaconda3\\lib\\site-packages\\sklearn\\utils\\deprecation.py:122: FutureWarning: You are accessing a training score ('std_train_score'), which will not be available by default any more in 0.21. If you need training scores, please set return_train_score=True\n",
      "  warnings.warn(*warn_args, **warn_kwargs)\n",
      "C:\\ProgramData\\Anaconda3\\lib\\site-packages\\sklearn\\utils\\deprecation.py:122: FutureWarning: You are accessing a training score ('split0_train_score'), which will not be available by default any more in 0.21. If you need training scores, please set return_train_score=True\n",
      "  warnings.warn(*warn_args, **warn_kwargs)\n",
      "C:\\ProgramData\\Anaconda3\\lib\\site-packages\\sklearn\\utils\\deprecation.py:122: FutureWarning: You are accessing a training score ('split1_train_score'), which will not be available by default any more in 0.21. If you need training scores, please set return_train_score=True\n",
      "  warnings.warn(*warn_args, **warn_kwargs)\n",
      "C:\\ProgramData\\Anaconda3\\lib\\site-packages\\sklearn\\utils\\deprecation.py:122: FutureWarning: You are accessing a training score ('split2_train_score'), which will not be available by default any more in 0.21. If you need training scores, please set return_train_score=True\n",
      "  warnings.warn(*warn_args, **warn_kwargs)\n",
      "C:\\ProgramData\\Anaconda3\\lib\\site-packages\\sklearn\\utils\\deprecation.py:122: FutureWarning: You are accessing a training score ('split3_train_score'), which will not be available by default any more in 0.21. If you need training scores, please set return_train_score=True\n",
      "  warnings.warn(*warn_args, **warn_kwargs)\n",
      "C:\\ProgramData\\Anaconda3\\lib\\site-packages\\sklearn\\utils\\deprecation.py:122: FutureWarning: You are accessing a training score ('split4_train_score'), which will not be available by default any more in 0.21. If you need training scores, please set return_train_score=True\n",
      "  warnings.warn(*warn_args, **warn_kwargs)\n"
     ]
    },
    {
     "data": {
      "image/png": "[encoded data removed]",
      "text/plain": [
       "<Figure size 432x288 with 1 Axes>"
      ]
     },
     "metadata": {},
     "output_type": "display_data"
    }
   ],
   "source": [
    "# summarize results\n",
    "print(\"Best: %f using %s\" % (-gsearch3_1.best_score_, gsearch3_1.best_params_))\n",
    "test_means = gsearch3_1.cv_results_[ 'mean_test_score' ]\n",
    "test_stds = gsearch3_1.cv_results_[ 'std_test_score' ]\n",
    "train_means = gsearch3_1.cv_results_[ 'mean_train_score' ]\n",
    "train_stds = gsearch3_1.cv_results_[ 'std_train_score' ]\n",
    "\n",
    "pd.DataFrame(gsearch3_1.cv_results_).to_csv('my_preds_subsampleh_colsample_bytree_1.csv')\n",
    "\n",
    "# plot results\n",
    "test_scores = np.array(test_means).reshape(len(colsample_bytree), len(subsample))\n",
    "train_scores = np.array(train_means).reshape(len(colsample_bytree), len(subsample))\n",
    "\n",
    "for i, value in enumerate(colsample_bytree):\n",
    "    pyplot.plot(subsample, -test_scores[i], label= 'test_colsample_bytree:'   + str(value))\n",
    "# for i, value in enumerate(colsample_bytree):\n",
    "#     pyplot.plot(subsample, -train_scores[i], label= 'train_colsample_bytree:'   + str(value))\n",
    "    \n",
    "pyplot.legend()\n",
    "pyplot.xlabel( 'subsample' )                                                                                                      \n",
    "pyplot.ylabel( 'Log Loss' )\n",
    "pyplot.savefig( 'subsample_vs_colsample_bytree1.png' )"
   ]
  },
  {
   "cell_type": "markdown",
   "metadata": {},
   "source": [
    "当前调参结果：  \n",
    "最优colsample_bytree为0.8；   \n",
    "最优subsample为0.7。"
   ]
  }
 ],
 "metadata": {
  "kernelspec": {
   "display_name": "Python 3",
   "language": "python",
   "name": "python3"
  },
  "language_info": {
   "codemirror_mode": {
    "name": "ipython",
    "version": 3
   },
   "file_extension": ".py",
   "mimetype": "text/x-python",
   "name": "python",
   "nbconvert_exporter": "python",
   "pygments_lexer": "ipython3",
   "version": "3.6.5"
  }
 },
 "nbformat": 4,
 "nbformat_minor": 2
}
